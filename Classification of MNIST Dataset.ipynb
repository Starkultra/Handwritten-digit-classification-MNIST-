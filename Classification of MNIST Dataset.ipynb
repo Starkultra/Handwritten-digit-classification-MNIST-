{
  "nbformat": 4,
  "nbformat_minor": 0,
  "metadata": {
    "colab": {
      "name": "Untitled20.ipynb",
      "provenance": []
    },
    "kernelspec": {
      "name": "python3",
      "display_name": "Python 3"
    },
    "accelerator": "GPU"
  },
  "cells": [
    {
      "cell_type": "markdown",
      "metadata": {
        "id": "1RHpXTE1T1jv",
        "colab_type": "text"
      },
      "source": [
        "Logistic Regression Using Pytorch"
      ]
    },
    {
      "cell_type": "code",
      "metadata": {
        "id": "T7aqLHP4T5TW",
        "colab_type": "code",
        "colab": {}
      },
      "source": [
        "import torchvision\n",
        "from torchvision.datasets import MNIST"
      ],
      "execution_count": 1,
      "outputs": []
    },
    {
      "cell_type": "code",
      "metadata": {
        "id": "yBIrHsgzUHhF",
        "colab_type": "code",
        "colab": {}
      },
      "source": [
        "dataset=MNIST(root='/content/',download=True)"
      ],
      "execution_count": 2,
      "outputs": []
    },
    {
      "cell_type": "code",
      "metadata": {
        "id": "sC8qovc3Ufgl",
        "colab_type": "code",
        "colab": {
          "base_uri": "https://localhost:8080/",
          "height": 34
        },
        "outputId": "b1314574-a65e-41b8-c90b-49a86b55e8aa"
      },
      "source": [
        "len(dataset)"
      ],
      "execution_count": 3,
      "outputs": [
        {
          "output_type": "execute_result",
          "data": {
            "text/plain": [
              "60000"
            ]
          },
          "metadata": {
            "tags": []
          },
          "execution_count": 3
        }
      ]
    },
    {
      "cell_type": "code",
      "metadata": {
        "id": "D7txQoAtUiVM",
        "colab_type": "code",
        "colab": {}
      },
      "source": [
        "test=MNIST(root='/content/',train=False)"
      ],
      "execution_count": 4,
      "outputs": []
    },
    {
      "cell_type": "code",
      "metadata": {
        "id": "jBgBulY1Usxi",
        "colab_type": "code",
        "colab": {
          "base_uri": "https://localhost:8080/",
          "height": 34
        },
        "outputId": "f6c1fd74-79e8-4f66-f40f-89248e6fea1f"
      },
      "source": [
        "len(test)"
      ],
      "execution_count": 5,
      "outputs": [
        {
          "output_type": "execute_result",
          "data": {
            "text/plain": [
              "10000"
            ]
          },
          "metadata": {
            "tags": []
          },
          "execution_count": 5
        }
      ]
    },
    {
      "cell_type": "code",
      "metadata": {
        "id": "MX6JgyMhU4iz",
        "colab_type": "code",
        "colab": {
          "base_uri": "https://localhost:8080/",
          "height": 34
        },
        "outputId": "d714f649-719d-4f61-964d-cd900c978890"
      },
      "source": [
        "dataset[0]"
      ],
      "execution_count": 6,
      "outputs": [
        {
          "output_type": "execute_result",
          "data": {
            "text/plain": [
              "(<PIL.Image.Image image mode=L size=28x28 at 0x7FBF06D02D68>, 5)"
            ]
          },
          "metadata": {
            "tags": []
          },
          "execution_count": 6
        }
      ]
    },
    {
      "cell_type": "code",
      "metadata": {
        "id": "qn9Hi52QU81K",
        "colab_type": "code",
        "colab": {}
      },
      "source": [
        "import torch\n",
        "import numpy as np\n",
        "import matplotlib.pyplot as plt\n",
        "%matplotlib inline"
      ],
      "execution_count": 7,
      "outputs": []
    },
    {
      "cell_type": "code",
      "metadata": {
        "id": "6ms6nGfaVE3P",
        "colab_type": "code",
        "colab": {
          "base_uri": "https://localhost:8080/",
          "height": 282
        },
        "outputId": "f6a15279-184e-47be-eacb-85db1b354c99"
      },
      "source": [
        "image,label=dataset[0]\n",
        "plt.imshow(image,cmap='gray')\n",
        "print(\"Label : \",label)"
      ],
      "execution_count": 8,
      "outputs": [
        {
          "output_type": "stream",
          "text": [
            "Label :  5\n"
          ],
          "name": "stdout"
        },
        {
          "output_type": "display_data",
          "data": {
            "image/png": "[encoded data removed]",
            "text/plain": [
              "<Figure size 432x288 with 1 Axes>"
            ]
          },
          "metadata": {
            "tags": [],
            "needs_background": "light"
          }
        }
      ]
    },
    {
      "cell_type": "code",
      "metadata": {
        "id": "SEtlnV32VTDM",
        "colab_type": "code",
        "colab": {
          "base_uri": "https://localhost:8080/",
          "height": 282
        },
        "outputId": "65744133-ec6a-49aa-c965-73ccba137a1c"
      },
      "source": [
        "image,label=dataset[10]\n",
        "plt.imshow(image,cmap='gray')\n",
        "print(\"Label : \",label)"
      ],
      "execution_count": 9,
      "outputs": [
        {
          "output_type": "stream",
          "text": [
            "Label :  3\n"
          ],
          "name": "stdout"
        },
        {
          "output_type": "display_data",
          "data": {
            "image/png": "[encoded data removed]",
            "text/plain": [
              "<Figure size 432x288 with 1 Axes>"
            ]
          },
          "metadata": {
            "tags": [],
            "needs_background": "light"
          }
        }
      ]
    },
    {
      "cell_type": "code",
      "metadata": {
        "id": "hu7J_mo6VW7b",
        "colab_type": "code",
        "colab": {}
      },
      "source": [
        "import torchvision.transforms as transforms"
      ],
      "execution_count": 10,
      "outputs": []
    },
    {
      "cell_type": "code",
      "metadata": {
        "id": "SacjXvLXVkxa",
        "colab_type": "code",
        "colab": {}
      },
      "source": [
        "dataset=MNIST(root='/content/',train=True,transform=transforms.ToTensor())"
      ],
      "execution_count": 11,
      "outputs": []
    },
    {
      "cell_type": "code",
      "metadata": {
        "id": "X0h1giXYV6T-",
        "colab_type": "code",
        "colab": {
          "base_uri": "https://localhost:8080/",
          "height": 34
        },
        "outputId": "797f64f9-12f8-4e30-b42d-409fe6c58a99"
      },
      "source": [
        "img_tensor,label=dataset[0]\n",
        "print(img_tensor.shape,label)\n",
        "#1-no. of channels\n",
        "#28,28 indicates pixels(height and length)"
      ],
      "execution_count": 12,
      "outputs": [
        {
          "output_type": "stream",
          "text": [
            "torch.Size([1, 28, 28]) 5\n"
          ],
          "name": "stdout"
        }
      ]
    },
    {
      "cell_type": "code",
      "metadata": {
        "id": "5rGlgWGmWMIo",
        "colab_type": "code",
        "colab": {
          "base_uri": "https://localhost:8080/",
          "height": 118
        },
        "outputId": "3d0a56f0-d618-440d-d2cd-ed9d0dd7e80b"
      },
      "source": [
        "print(img_tensor[:,10:15,10:15])\n",
        "print(torch.max(img_tensor),torch.min(img_tensor))"
      ],
      "execution_count": 13,
      "outputs": [
        {
          "output_type": "stream",
          "text": [
            "tensor([[[0.0039, 0.6039, 0.9922, 0.3529, 0.0000],\n",
            "         [0.0000, 0.5451, 0.9922, 0.7451, 0.0078],\n",
            "         [0.0000, 0.0431, 0.7451, 0.9922, 0.2745],\n",
            "         [0.0000, 0.0000, 0.1373, 0.9451, 0.8824],\n",
            "         [0.0000, 0.0000, 0.0000, 0.3176, 0.9412]]])\n",
            "tensor(1.) tensor(0.)\n"
          ],
          "name": "stdout"
        }
      ]
    },
    {
      "cell_type": "code",
      "metadata": {
        "id": "ra3Bs2nTWlxg",
        "colab_type": "code",
        "colab": {
          "base_uri": "https://localhost:8080/",
          "height": 265
        },
        "outputId": "2f456bfb-5294-453d-8a5f-55cb24058ee7"
      },
      "source": [
        "plt.imshow(img_tensor[0,10:15,10:15],cmap='gray');"
      ],
      "execution_count": 14,
      "outputs": [
        {
          "output_type": "display_data",
          "data": {
            "image/png": "[encoded data removed]",
            "text/plain": [
              "<Figure size 432x288 with 1 Axes>"
            ]
          },
          "metadata": {
            "tags": [],
            "needs_background": "light"
          }
        }
      ]
    },
    {
      "cell_type": "code",
      "metadata": {
        "id": "dLGtZ1DgWuUP",
        "colab_type": "code",
        "colab": {}
      },
      "source": [
        "from torch.utils.data import random_split\n",
        "from torch.utils.data.dataloader import DataLoader\n",
        "train_ds,val_ds=random_split(dataset,[50000,10000])"
      ],
      "execution_count": 15,
      "outputs": []
    },
    {
      "cell_type": "code",
      "metadata": {
        "id": "1PBeeTb6XPHw",
        "colab_type": "code",
        "colab": {}
      },
      "source": [
        "batch_size=100\n",
        "train_loader=DataLoader(train_ds,batch_size,shuffle=True)\n",
        "val_loader=DataLoader(val_ds,batch_size)"
      ],
      "execution_count": 16,
      "outputs": []
    },
    {
      "cell_type": "markdown",
      "metadata": {
        "id": "PCar6HR-X4lm",
        "colab_type": "text"
      },
      "source": [
        "Model Building"
      ]
    },
    {
      "cell_type": "code",
      "metadata": {
        "id": "LixrFezXvAKp",
        "colab_type": "code",
        "colab": {}
      },
      "source": [
        "import torch.nn as nn\n",
        "import torch.nn.functional as F"
      ],
      "execution_count": 17,
      "outputs": []
    },
    {
      "cell_type": "code",
      "metadata": {
        "id": "RbLatyimXl2x",
        "colab_type": "code",
        "colab": {}
      },
      "source": [
        "input_size=28*28\n",
        "output_size=10\n",
        "model=nn.Linear(input_size,output_size)"
      ],
      "execution_count": 18,
      "outputs": []
    },
    {
      "cell_type": "code",
      "metadata": {
        "id": "CmMyQJDuYISc",
        "colab_type": "code",
        "colab": {
          "base_uri": "https://localhost:8080/",
          "height": 34
        },
        "outputId": "6aac7ebd-ed85-4d54-b864-f724c79163a9"
      },
      "source": [
        "print(model.weight.shape)"
      ],
      "execution_count": 19,
      "outputs": [
        {
          "output_type": "stream",
          "text": [
            "torch.Size([10, 784])\n"
          ],
          "name": "stdout"
        }
      ]
    },
    {
      "cell_type": "code",
      "metadata": {
        "id": "nlrbVdOxYL1p",
        "colab_type": "code",
        "colab": {
          "base_uri": "https://localhost:8080/",
          "height": 168
        },
        "outputId": "a617bc51-1b97-4a70-a505-cd1dbd7af755"
      },
      "source": [
        "model.weight"
      ],
      "execution_count": 20,
      "outputs": [
        {
          "output_type": "execute_result",
          "data": {
            "text/plain": [
              "Parameter containing:\n",
              "tensor([[ 0.0091,  0.0223, -0.0345,  ...,  0.0185, -0.0344, -0.0279],\n",
              "        [ 0.0129,  0.0002, -0.0185,  ...,  0.0270,  0.0216,  0.0196],\n",
              "        [-0.0282,  0.0165, -0.0349,  ...,  0.0339, -0.0226, -0.0224],\n",
              "        ...,\n",
              "        [ 0.0110,  0.0032, -0.0001,  ..., -0.0316, -0.0315,  0.0306],\n",
              "        [-0.0197,  0.0152, -0.0036,  ...,  0.0064, -0.0210, -0.0171],\n",
              "        [ 0.0182, -0.0234,  0.0227,  ...,  0.0107,  0.0195, -0.0154]],\n",
              "       requires_grad=True)"
            ]
          },
          "metadata": {
            "tags": []
          },
          "execution_count": 20
        }
      ]
    },
    {
      "cell_type": "code",
      "metadata": {
        "id": "ImS-KEQsYOXj",
        "colab_type": "code",
        "colab": {
          "base_uri": "https://localhost:8080/",
          "height": 84
        },
        "outputId": "e726e42d-e24c-45aa-eac5-ec197bfe5471"
      },
      "source": [
        "print(model.bias.shape)\n",
        "model.bias"
      ],
      "execution_count": 21,
      "outputs": [
        {
          "output_type": "stream",
          "text": [
            "torch.Size([10])\n"
          ],
          "name": "stdout"
        },
        {
          "output_type": "execute_result",
          "data": {
            "text/plain": [
              "Parameter containing:\n",
              "tensor([-0.0069,  0.0088,  0.0084,  0.0342,  0.0352,  0.0087,  0.0245, -0.0023,\n",
              "        -0.0261,  0.0054], requires_grad=True)"
            ]
          },
          "metadata": {
            "tags": []
          },
          "execution_count": 21
        }
      ]
    },
    {
      "cell_type": "code",
      "metadata": {
        "id": "RRrPLEeZY0TR",
        "colab_type": "code",
        "colab": {}
      },
      "source": [
        "class MnistModel(nn.Module):\n",
        "    def __init__(self):\n",
        "        super().__init__()\n",
        "        self.linear = nn.Linear(input_size, output_size)\n",
        "        \n",
        "    def forward(self, xb):\n",
        "        xb = xb.reshape(-1, 784)\n",
        "        out = self.linear(xb)\n",
        "        return out\n",
        "    \n",
        "model = MnistModel()"
      ],
      "execution_count": 22,
      "outputs": []
    },
    {
      "cell_type": "code",
      "metadata": {
        "id": "Bu9Keb74Z6rR",
        "colab_type": "code",
        "colab": {
          "base_uri": "https://localhost:8080/",
          "height": 34
        },
        "outputId": "39c05ffb-bac2-4e23-954f-730734a2e76c"
      },
      "source": [
        "print(model.linear.weight.shape,model.linear.bias.shape)"
      ],
      "execution_count": 23,
      "outputs": [
        {
          "output_type": "stream",
          "text": [
            "torch.Size([10, 784]) torch.Size([10])\n"
          ],
          "name": "stdout"
        }
      ]
    },
    {
      "cell_type": "code",
      "metadata": {
        "id": "3yI-th6daXiJ",
        "colab_type": "code",
        "colab": {
          "base_uri": "https://localhost:8080/",
          "height": 202
        },
        "outputId": "0e112810-f41b-4fe2-c52c-3419a4332a59"
      },
      "source": [
        "list(model.parameters())"
      ],
      "execution_count": 24,
      "outputs": [
        {
          "output_type": "execute_result",
          "data": {
            "text/plain": [
              "[Parameter containing:\n",
              " tensor([[ 0.0182, -0.0049, -0.0124,  ...,  0.0188,  0.0099,  0.0249],\n",
              "         [-0.0319,  0.0275,  0.0207,  ...,  0.0345,  0.0204, -0.0018],\n",
              "         [ 0.0032, -0.0308,  0.0245,  ...,  0.0087, -0.0180,  0.0118],\n",
              "         ...,\n",
              "         [ 0.0251, -0.0099,  0.0232,  ..., -0.0102,  0.0190, -0.0219],\n",
              "         [-0.0084,  0.0203, -0.0226,  ...,  0.0032, -0.0120, -0.0131],\n",
              "         [-0.0011,  0.0043, -0.0007,  ...,  0.0120, -0.0004,  0.0057]],\n",
              "        requires_grad=True), Parameter containing:\n",
              " tensor([-0.0005,  0.0297,  0.0271,  0.0300,  0.0345, -0.0346, -0.0058,  0.0054,\n",
              "          0.0189,  0.0184], requires_grad=True)]"
            ]
          },
          "metadata": {
            "tags": []
          },
          "execution_count": 24
        }
      ]
    },
    {
      "cell_type": "code",
      "metadata": {
        "id": "qn5_r9bEabfE",
        "colab_type": "code",
        "colab": {
          "base_uri": "https://localhost:8080/",
          "height": 118
        },
        "outputId": "7ba596a5-27c8-41e6-9011-13c2811fb2dc"
      },
      "source": [
        "for images, labels in train_loader:\n",
        "    outputs = model(images)\n",
        "    break\n",
        "\n",
        "print('outputs.shape : ', outputs.shape)\n",
        "print('Sample outputs :\\n', outputs[:2].data)"
      ],
      "execution_count": 25,
      "outputs": [
        {
          "output_type": "stream",
          "text": [
            "outputs.shape :  torch.Size([100, 10])\n",
            "Sample outputs :\n",
            " tensor([[ 0.2242, -0.4720,  0.1859,  0.1837, -0.3788,  0.0455,  0.0915,  0.1818,\n",
            "          0.3610, -0.1463],\n",
            "        [-0.0630,  0.0689, -0.2439,  0.1222, -0.0081,  0.1825,  0.0269,  0.2595,\n",
            "          0.0791,  0.0452]])\n"
          ],
          "name": "stdout"
        }
      ]
    },
    {
      "cell_type": "code",
      "metadata": {
        "id": "iO2mi83da-dJ",
        "colab_type": "code",
        "colab": {
          "base_uri": "https://localhost:8080/",
          "height": 101
        },
        "outputId": "6ea1451c-37fc-4eeb-f982-073991822d20"
      },
      "source": [
        "probs = F.softmax(outputs,dim=1)\n",
        "print(\"Sample Probabilities : \",probs[:2].data)\n",
        "print(\"Sum : \",torch.sum(probs[0]).item())\n"
      ],
      "execution_count": 26,
      "outputs": [
        {
          "output_type": "stream",
          "text": [
            "Sample Probabilities :  tensor([[0.1180, 0.0588, 0.1135, 0.1133, 0.0646, 0.0987, 0.1033, 0.1131, 0.1353,\n",
            "         0.0815],\n",
            "        [0.0888, 0.1014, 0.0741, 0.1069, 0.0939, 0.1136, 0.0972, 0.1227, 0.1024,\n",
            "         0.0990]])\n",
            "Sum :  1.0\n"
          ],
          "name": "stdout"
        }
      ]
    },
    {
      "cell_type": "code",
      "metadata": {
        "id": "WHsmWMLcbvW-",
        "colab_type": "code",
        "colab": {
          "base_uri": "https://localhost:8080/",
          "height": 302
        },
        "outputId": "832511d5-e03f-41bd-e541-7e04c84c25ef"
      },
      "source": [
        "max_probs,preds=torch.max(probs,dim=1)\n",
        "print(max_probs)\n",
        "print(preds)"
      ],
      "execution_count": 27,
      "outputs": [
        {
          "output_type": "stream",
          "text": [
            "tensor([0.1353, 0.1227, 0.1246, 0.1431, 0.1184, 0.1360, 0.1473, 0.1260, 0.1456,\n",
            "        0.1176, 0.1186, 0.1301, 0.1369, 0.1378, 0.1312, 0.1382, 0.1258, 0.1361,\n",
            "        0.1394, 0.1312, 0.1266, 0.1236, 0.1385, 0.1679, 0.1227, 0.1250, 0.1330,\n",
            "        0.1689, 0.1251, 0.1358, 0.1680, 0.1360, 0.1424, 0.1587, 0.1273, 0.1361,\n",
            "        0.1390, 0.1186, 0.1361, 0.1292, 0.1484, 0.1238, 0.1350, 0.1333, 0.1350,\n",
            "        0.1130, 0.1221, 0.1173, 0.1170, 0.1284, 0.1338, 0.1219, 0.1313, 0.1318,\n",
            "        0.1451, 0.1310, 0.1208, 0.1256, 0.1754, 0.1538, 0.1328, 0.1431, 0.1318,\n",
            "        0.1142, 0.1465, 0.1224, 0.1247, 0.1258, 0.1354, 0.1228, 0.1390, 0.1642,\n",
            "        0.1268, 0.1418, 0.1350, 0.1307, 0.1346, 0.1385, 0.1283, 0.1184, 0.1307,\n",
            "        0.1388, 0.1575, 0.1269, 0.1302, 0.1286, 0.1315, 0.1417, 0.1244, 0.1544,\n",
            "        0.1646, 0.1257, 0.1228, 0.1150, 0.1580, 0.1422, 0.1325, 0.1373, 0.1210,\n",
            "        0.1514], grad_fn=<MaxBackward0>)\n",
            "tensor([8, 7, 4, 2, 7, 4, 8, 8, 7, 8, 8, 8, 2, 2, 5, 8, 3, 8, 5, 7, 8, 3, 8, 8,\n",
            "        7, 8, 8, 7, 2, 0, 7, 8, 3, 8, 8, 4, 8, 8, 8, 4, 0, 0, 3, 7, 4, 7, 8, 4,\n",
            "        7, 4, 8, 4, 4, 3, 8, 2, 0, 8, 8, 8, 5, 7, 3, 0, 6, 7, 3, 4, 8, 5, 2, 8,\n",
            "        8, 8, 3, 5, 4, 8, 4, 3, 3, 8, 8, 0, 8, 2, 8, 2, 8, 4, 8, 2, 6, 0, 0, 0,\n",
            "        8, 0, 8, 2])\n"
          ],
          "name": "stdout"
        }
      ]
    },
    {
      "cell_type": "code",
      "metadata": {
        "id": "wb7UlvxDccIp",
        "colab_type": "code",
        "colab": {
          "base_uri": "https://localhost:8080/",
          "height": 101
        },
        "outputId": "431e2c1c-5679-4bb5-dd4f-696e0b1d2b93"
      },
      "source": [
        "print(labels)"
      ],
      "execution_count": 28,
      "outputs": [
        {
          "output_type": "stream",
          "text": [
            "tensor([5, 7, 5, 8, 7, 6, 3, 8, 4, 5, 3, 3, 2, 0, 8, 7, 0, 5, 0, 8, 8, 7, 9, 7,\n",
            "        4, 3, 7, 7, 1, 1, 4, 9, 6, 3, 0, 6, 9, 4, 2, 2, 6, 6, 2, 4, 2, 5, 8, 5,\n",
            "        7, 9, 0, 3, 2, 8, 7, 6, 3, 4, 3, 3, 2, 7, 8, 1, 0, 0, 8, 8, 3, 8, 0, 9,\n",
            "        6, 3, 6, 4, 9, 8, 2, 1, 2, 0, 7, 5, 3, 3, 3, 0, 4, 2, 9, 0, 0, 4, 8, 5,\n",
            "        0, 8, 3, 6])\n"
          ],
          "name": "stdout"
        }
      ]
    },
    {
      "cell_type": "markdown",
      "metadata": {
        "id": "xBqstZd0eerT",
        "colab_type": "text"
      },
      "source": [
        "Evalutation Metrics And Loss Function"
      ]
    },
    {
      "cell_type": "code",
      "metadata": {
        "id": "QwixQVVXcj_A",
        "colab_type": "code",
        "colab": {}
      },
      "source": [
        "def accuracy(outputs,labels):\n",
        "  _,preds=torch.max(outputs,dim=1)\n",
        "  return torch.tensor(torch.sum(preds==labels).item()/len(preds))"
      ],
      "execution_count": 29,
      "outputs": []
    },
    {
      "cell_type": "code",
      "metadata": {
        "id": "a7vT_9mneb5e",
        "colab_type": "code",
        "colab": {
          "base_uri": "https://localhost:8080/",
          "height": 34
        },
        "outputId": "e2aa5170-21e3-4334-baee-db4040d2a2e3"
      },
      "source": [
        "accuracy(outputs,labels)"
      ],
      "execution_count": 30,
      "outputs": [
        {
          "output_type": "execute_result",
          "data": {
            "text/plain": [
              "tensor(0.1000)"
            ]
          },
          "metadata": {
            "tags": []
          },
          "execution_count": 30
        }
      ]
    },
    {
      "cell_type": "code",
      "metadata": {
        "id": "Uueoa5BPennX",
        "colab_type": "code",
        "colab": {}
      },
      "source": [
        "loss_fn=F.cross_entropy\n",
        "loss=loss_fn(outputs,labels)"
      ],
      "execution_count": 31,
      "outputs": []
    },
    {
      "cell_type": "code",
      "metadata": {
        "id": "ffOwAhXyiENP",
        "colab_type": "code",
        "colab": {
          "base_uri": "https://localhost:8080/",
          "height": 34
        },
        "outputId": "ebb471c4-1933-43ff-e148-b89c08dd881a"
      },
      "source": [
        "print(loss)"
      ],
      "execution_count": 32,
      "outputs": [
        {
          "output_type": "stream",
          "text": [
            "tensor(2.3097, grad_fn=<NllLossBackward>)\n"
          ],
          "name": "stdout"
        }
      ]
    },
    {
      "cell_type": "markdown",
      "metadata": {
        "id": "fpDU2Z2Q1J3Y",
        "colab_type": "text"
      },
      "source": [
        "Training Model"
      ]
    },
    {
      "cell_type": "code",
      "metadata": {
        "id": "SGo0KQhjiR-0",
        "colab_type": "code",
        "colab": {}
      },
      "source": [
        "class MnistModel(nn.Module):\n",
        "  def __init__(self):\n",
        "    super().__init__()\n",
        "    self.linear=nn.Linear(input_size,output_size)\n",
        "\n",
        "  def forward(self,xb):\n",
        "    xb=xb.reshape(-1,784)\n",
        "    out=self.linear(xb)\n",
        "    return out\n",
        "\n",
        "  def training_step(self,batch):\n",
        "    images,labels=batch\n",
        "    out=self(images)\n",
        "    loss=F.cross_entropy(out,labels)\n",
        "    return loss\n",
        "\n",
        "  def validation_step(self,batch):\n",
        "    images,labels=batch\n",
        "    out=self(images)\n",
        "    val_loss=F.cross_entropy(out,labels)\n",
        "    val_acc=accuracy(out,labels)\n",
        "    return {\"val_loss\": val_loss,\"val_acc\":val_acc}\n",
        "\n",
        "  def validation_epoch_end(self, outputs):\n",
        "    batch_losses = [x['val_loss'] for x in outputs]\n",
        "    epoch_loss = torch.stack(batch_losses).mean()   # Combine losses\n",
        "    batch_accs = [x['val_acc'] for x in outputs]\n",
        "    epoch_acc = torch.stack(batch_accs).mean()      # Combine accuracies\n",
        "    return {'val_loss': epoch_loss.item(), 'val_acc': epoch_acc.item()}\n",
        "\n",
        "  def epoch_end(self, epoch, result):\n",
        "    if (epoch+1) % 10 == 0 :\n",
        "      print(\"Epoch [{}],train_loss:{:.4f}, val_loss: {:.4f}, val_acc: {:.4f}\".format(epoch+1,result['train_loss'], result['val_loss'], result['val_acc']))\n",
        "\n",
        "\n",
        "model=MnistModel()"
      ],
      "execution_count": 33,
      "outputs": []
    },
    {
      "cell_type": "code",
      "metadata": {
        "id": "jNVnKspL3Kca",
        "colab_type": "code",
        "colab": {}
      },
      "source": [
        "def evaluate(model, val_loader):\n",
        "    outputs = [model.validation_step(batch) for batch in val_loader]\n",
        "    return model.validation_epoch_end(outputs)\n",
        "\n",
        "def fit(epochs, lr, model, train_loader, val_loader, opt_func=torch.optim.SGD):\n",
        "    history = []\n",
        "    optimizer = opt_func(model.parameters(), lr)\n",
        "    for epoch in range(epochs):\n",
        "        # Training Phase \n",
        "        train_loss=[]\n",
        "        for batch in train_loader:\n",
        "            loss = model.training_step(batch)\n",
        "            train_loss.append(loss)\n",
        "            loss.backward()\n",
        "            optimizer.step()\n",
        "            optimizer.zero_grad()\n",
        "        # Validation phase\n",
        "        result = evaluate(model, val_loader)\n",
        "        result['train_loss'] = torch.stack(train_loss).mean().item()\n",
        "        model.epoch_end(epoch, result)\n",
        "        history.append(result)\n",
        "    return history"
      ],
      "execution_count": 34,
      "outputs": []
    },
    {
      "cell_type": "code",
      "metadata": {
        "id": "69ftWDO-4Wpm",
        "colab_type": "code",
        "colab": {
          "base_uri": "https://localhost:8080/",
          "height": 34
        },
        "outputId": "9507c652-581d-4cf9-c607-647285a073e3"
      },
      "source": [
        "# 1st iteration\n",
        "result=evaluate(model,val_loader)\n",
        "result"
      ],
      "execution_count": 35,
      "outputs": [
        {
          "output_type": "execute_result",
          "data": {
            "text/plain": [
              "{'val_acc': 0.044700004160404205, 'val_loss': 2.3480148315429688}"
            ]
          },
          "metadata": {
            "tags": []
          },
          "execution_count": 35
        }
      ]
    },
    {
      "cell_type": "code",
      "metadata": {
        "id": "TfmqCet75P_O",
        "colab_type": "code",
        "colab": {
          "base_uri": "https://localhost:8080/",
          "height": 101
        },
        "outputId": "eccae5e1-2d8d-4826-f83a-483fe1096f7d"
      },
      "source": [
        "history=fit(50,0.001,model,train_loader,val_loader)"
      ],
      "execution_count": 36,
      "outputs": [
        {
          "output_type": "stream",
          "text": [
            "Epoch [10],train_loss:0.8238, val_loss: 0.8073, val_acc: 0.8375\n",
            "Epoch [20],train_loss:0.6180, val_loss: 0.6156, val_acc: 0.8589\n",
            "Epoch [30],train_loss:0.5372, val_loss: 0.5384, val_acc: 0.8693\n",
            "Epoch [40],train_loss:0.4921, val_loss: 0.4950, val_acc: 0.8762\n",
            "Epoch [50],train_loss:0.4626, val_loss: 0.4665, val_acc: 0.8807\n"
          ],
          "name": "stdout"
        }
      ]
    },
    {
      "cell_type": "code",
      "metadata": {
        "id": "3Mq-qYzp5RVR",
        "colab_type": "code",
        "colab": {
          "base_uri": "https://localhost:8080/",
          "height": 295
        },
        "outputId": "50001f2c-0a31-4706-be1f-03a0fc1fee66"
      },
      "source": [
        "history = [result] + history\n",
        "accuracies = [result['val_acc'] for result in history]\n",
        "plt.plot(accuracies, '-x')\n",
        "plt.xlabel('epoch')\n",
        "plt.ylabel('accuracy')\n",
        "plt.title('Accuracy vs. No. of epochs');"
      ],
      "execution_count": 37,
      "outputs": [
        {
          "output_type": "display_data",
          "data": {
            "image/png": "[encoded data removed]",
            "text/plain": [
              "<Figure size 432x288 with 1 Axes>"
            ]
          },
          "metadata": {
            "tags": [],
            "needs_background": "light"
          }
        }
      ]
    },
    {
      "cell_type": "code",
      "metadata": {
        "id": "SMFhZRIE_zt-",
        "colab_type": "code",
        "colab": {
          "base_uri": "https://localhost:8080/",
          "height": 295
        },
        "outputId": "0e98d315-2607-4c98-8358-326216583bdd"
      },
      "source": [
        "def plot_losses(history):\n",
        "    train_losses = [x.get('train_loss') for x in history]\n",
        "    val_losses = [x['val_loss'] for x in history]\n",
        "    plt.plot(train_losses, '-bx')\n",
        "    plt.plot(val_losses, '-rx')\n",
        "    plt.xlabel('epoch')\n",
        "    plt.ylabel('loss')\n",
        "    plt.legend(['Training', 'Validation'])\n",
        "    plt.title('Loss vs. No. of epochs');\n",
        "plot_losses(history)"
      ],
      "execution_count": 38,
      "outputs": [
        {
          "output_type": "display_data",
          "data": {
            "image/png": "[encoded data removed]",
            "text/plain": [
              "<Figure size 432x288 with 1 Axes>"
            ]
          },
          "metadata": {
            "tags": [],
            "needs_background": "light"
          }
        }
      ]
    },
    {
      "cell_type": "markdown",
      "metadata": {
        "id": "tHWBdtMZ6KVD",
        "colab_type": "text"
      },
      "source": [
        "Testing With individuals images"
      ]
    },
    {
      "cell_type": "code",
      "metadata": {
        "id": "7no0Z0rI5mpz",
        "colab_type": "code",
        "colab": {
          "base_uri": "https://localhost:8080/",
          "height": 282
        },
        "outputId": "b39a2225-3b53-4071-e4f9-467a728fa86a"
      },
      "source": [
        "images,labels=test[0]\n",
        "plt.imshow(images,cmap='gray')\n",
        "print(\"Labels :\",labels)"
      ],
      "execution_count": 39,
      "outputs": [
        {
          "output_type": "stream",
          "text": [
            "Labels : 7\n"
          ],
          "name": "stdout"
        },
        {
          "output_type": "display_data",
          "data": {
            "image/png": "[encoded data removed]",
            "text/plain": [
              "<Figure size 432x288 with 1 Axes>"
            ]
          },
          "metadata": {
            "tags": [],
            "needs_background": "light"
          }
        }
      ]
    },
    {
      "cell_type": "code",
      "metadata": {
        "id": "gt46jgUQ6kzT",
        "colab_type": "code",
        "colab": {}
      },
      "source": [
        "test=MNIST(root='/content/',train=False,transform=transforms.ToTensor())"
      ],
      "execution_count": 40,
      "outputs": []
    },
    {
      "cell_type": "code",
      "metadata": {
        "id": "VssFsqzK7J83",
        "colab_type": "code",
        "colab": {
          "base_uri": "https://localhost:8080/",
          "height": 50
        },
        "outputId": "703b6353-818a-4a1f-cd8d-5455524b49a4"
      },
      "source": [
        "img_tensor,labels=test[0]\n",
        "print(\"Image shape\",img_tensor.shape)\n",
        "print(\"Label : \",labels)"
      ],
      "execution_count": 41,
      "outputs": [
        {
          "output_type": "stream",
          "text": [
            "Image shape torch.Size([1, 28, 28])\n",
            "Label :  7\n"
          ],
          "name": "stdout"
        }
      ]
    },
    {
      "cell_type": "code",
      "metadata": {
        "id": "sZWtc1ag7U0V",
        "colab_type": "code",
        "colab": {
          "base_uri": "https://localhost:8080/",
          "height": 34
        },
        "outputId": "32a88dab-e4a8-4192-ffd6-15dbc7bd526d"
      },
      "source": [
        "img_tensor.unsqueeze(0).shape"
      ],
      "execution_count": 42,
      "outputs": [
        {
          "output_type": "execute_result",
          "data": {
            "text/plain": [
              "torch.Size([1, 1, 28, 28])"
            ]
          },
          "metadata": {
            "tags": []
          },
          "execution_count": 42
        }
      ]
    },
    {
      "cell_type": "code",
      "metadata": {
        "id": "dV99cF4B71oS",
        "colab_type": "code",
        "colab": {}
      },
      "source": [
        "def predict_image(img_tensor, model):\n",
        "    xb = img.unsqueeze(0)\n",
        "    yb = model(xb)\n",
        "    _, preds  = torch.max(yb, dim=1)\n",
        "    return preds[0].item()"
      ],
      "execution_count": 43,
      "outputs": []
    },
    {
      "cell_type": "code",
      "metadata": {
        "id": "rWAh9L-O8LTS",
        "colab_type": "code",
        "colab": {
          "base_uri": "https://localhost:8080/",
          "height": 282
        },
        "outputId": "7b4160d2-e116-42b6-da9b-1b80654212c1"
      },
      "source": [
        "img, label = test[0]\n",
        "plt.imshow(img[0], cmap='gray')\n",
        "print('Label:', label, ', Predicted:', predict_image(img, model))"
      ],
      "execution_count": 44,
      "outputs": [
        {
          "output_type": "stream",
          "text": [
            "Label: 7 , Predicted: 7\n"
          ],
          "name": "stdout"
        },
        {
          "output_type": "display_data",
          "data": {
            "image/png": "[encoded data removed]",
            "text/plain": [
              "<Figure size 432x288 with 1 Axes>"
            ]
          },
          "metadata": {
            "tags": [],
            "needs_background": "light"
          }
        }
      ]
    },
    {
      "cell_type": "code",
      "metadata": {
        "id": "LnVjfoHD8Qzo",
        "colab_type": "code",
        "colab": {
          "base_uri": "https://localhost:8080/",
          "height": 282
        },
        "outputId": "b3c93a60-40eb-44cf-918d-8b2dbd777853"
      },
      "source": [
        "img, label = test[10]\n",
        "plt.imshow(img[0], cmap='gray')\n",
        "print('Label:', label, ', Predicted:', predict_image(img, model))"
      ],
      "execution_count": 45,
      "outputs": [
        {
          "output_type": "stream",
          "text": [
            "Label: 0 , Predicted: 0\n"
          ],
          "name": "stdout"
        },
        {
          "output_type": "display_data",
          "data": {
            "image/png": "[encoded data removed]",
            "text/plain": [
              "<Figure size 432x288 with 1 Axes>"
            ]
          },
          "metadata": {
            "tags": [],
            "needs_background": "light"
          }
        }
      ]
    },
    {
      "cell_type": "code",
      "metadata": {
        "id": "FIPYUkkk8g6c",
        "colab_type": "code",
        "colab": {
          "base_uri": "https://localhost:8080/",
          "height": 282
        },
        "outputId": "7afd94d2-6919-48b0-ff42-94f8c4a7171a"
      },
      "source": [
        "img, label = test[193]\n",
        "plt.imshow(img[0], cmap='gray')\n",
        "print('Label:', label, ', Predicted:', predict_image(img, model))"
      ],
      "execution_count": 46,
      "outputs": [
        {
          "output_type": "stream",
          "text": [
            "Label: 9 , Predicted: 3\n"
          ],
          "name": "stdout"
        },
        {
          "output_type": "display_data",
          "data": {
            "image/png": "[encoded data removed]",
            "text/plain": [
              "<Figure size 432x288 with 1 Axes>"
            ]
          },
          "metadata": {
            "tags": [],
            "needs_background": "light"
          }
        }
      ]
    },
    {
      "cell_type": "code",
      "metadata": {
        "id": "x3qAOveU8xq6",
        "colab_type": "code",
        "colab": {
          "base_uri": "https://localhost:8080/",
          "height": 282
        },
        "outputId": "79d18468-f73e-4361-affc-b028398df32b"
      },
      "source": [
        "img, label = test[1839]\n",
        "plt.imshow(img[0], cmap='gray')\n",
        "print('Label:', label, ', Predicted:', predict_image(img, model))"
      ],
      "execution_count": 47,
      "outputs": [
        {
          "output_type": "stream",
          "text": [
            "Label: 2 , Predicted: 8\n"
          ],
          "name": "stdout"
        },
        {
          "output_type": "display_data",
          "data": {
            "image/png": "[encoded data removed]",
            "text/plain": [
              "<Figure size 432x288 with 1 Axes>"
            ]
          },
          "metadata": {
            "tags": [],
            "needs_background": "light"
          }
        }
      ]
    },
    {
      "cell_type": "code",
      "metadata": {
        "id": "TcQK5DG286ev",
        "colab_type": "code",
        "colab": {
          "base_uri": "https://localhost:8080/",
          "height": 34
        },
        "outputId": "9278ed88-e859-4fd2-a672-14580d1eca8c"
      },
      "source": [
        "test_loader = DataLoader(test, batch_size=256)\n",
        "result = evaluate(model, test_loader)\n",
        "result"
      ],
      "execution_count": 48,
      "outputs": [
        {
          "output_type": "execute_result",
          "data": {
            "text/plain": [
              "{'val_acc': 0.889453113079071, 'val_loss': 0.4365774691104889}"
            ]
          },
          "metadata": {
            "tags": []
          },
          "execution_count": 48
        }
      ]
    },
    {
      "cell_type": "code",
      "metadata": {
        "id": "QNM7gb0z9FUJ",
        "colab_type": "code",
        "colab": {}
      },
      "source": [
        "torch.save(model.state_dict(), 'mnist-logistic.pth')"
      ],
      "execution_count": 49,
      "outputs": []
    },
    {
      "cell_type": "code",
      "metadata": {
        "id": "Iy4APwaN9M0Y",
        "colab_type": "code",
        "colab": {
          "base_uri": "https://localhost:8080/",
          "height": 202
        },
        "outputId": "c38cabf9-adea-4007-bed1-0e71968b81ba"
      },
      "source": [
        "model.state_dict()"
      ],
      "execution_count": 50,
      "outputs": [
        {
          "output_type": "execute_result",
          "data": {
            "text/plain": [
              "OrderedDict([('linear.weight',\n",
              "              tensor([[ 0.0065,  0.0085,  0.0318,  ..., -0.0224,  0.0203, -0.0139],\n",
              "                      [-0.0099,  0.0245, -0.0086,  ..., -0.0129, -0.0007, -0.0213],\n",
              "                      [-0.0223,  0.0110,  0.0106,  ...,  0.0306,  0.0107,  0.0350],\n",
              "                      ...,\n",
              "                      [ 0.0354, -0.0329,  0.0040,  ..., -0.0167, -0.0310, -0.0101],\n",
              "                      [-0.0048,  0.0307,  0.0013,  ...,  0.0254,  0.0221, -0.0044],\n",
              "                      [ 0.0304,  0.0090,  0.0320,  ...,  0.0162,  0.0002,  0.0223]])),\n",
              "             ('linear.bias',\n",
              "              tensor([-0.0935,  0.1427, -0.0550, -0.0358,  0.0404,  0.1583,  0.0058,  0.1264,\n",
              "                      -0.1968,  0.0004]))])"
            ]
          },
          "metadata": {
            "tags": []
          },
          "execution_count": 50
        }
      ]
    },
    {
      "cell_type": "code",
      "metadata": {
        "id": "fEGBJDFy9Qcc",
        "colab_type": "code",
        "colab": {
          "base_uri": "https://localhost:8080/",
          "height": 202
        },
        "outputId": "e5e5e908-1797-4904-8325-5315f94c3973"
      },
      "source": [
        "model2 = MnistModel()\n",
        "model2.load_state_dict(torch.load('mnist-logistic.pth'))\n",
        "model2.state_dict()"
      ],
      "execution_count": 51,
      "outputs": [
        {
          "output_type": "execute_result",
          "data": {
            "text/plain": [
              "OrderedDict([('linear.weight',\n",
              "              tensor([[ 0.0065,  0.0085,  0.0318,  ..., -0.0224,  0.0203, -0.0139],\n",
              "                      [-0.0099,  0.0245, -0.0086,  ..., -0.0129, -0.0007, -0.0213],\n",
              "                      [-0.0223,  0.0110,  0.0106,  ...,  0.0306,  0.0107,  0.0350],\n",
              "                      ...,\n",
              "                      [ 0.0354, -0.0329,  0.0040,  ..., -0.0167, -0.0310, -0.0101],\n",
              "                      [-0.0048,  0.0307,  0.0013,  ...,  0.0254,  0.0221, -0.0044],\n",
              "                      [ 0.0304,  0.0090,  0.0320,  ...,  0.0162,  0.0002,  0.0223]])),\n",
              "             ('linear.bias',\n",
              "              tensor([-0.0935,  0.1427, -0.0550, -0.0358,  0.0404,  0.1583,  0.0058,  0.1264,\n",
              "                      -0.1968,  0.0004]))])"
            ]
          },
          "metadata": {
            "tags": []
          },
          "execution_count": 51
        }
      ]
    },
    {
      "cell_type": "code",
      "metadata": {
        "id": "2bYPWTL69Tju",
        "colab_type": "code",
        "colab": {
          "base_uri": "https://localhost:8080/",
          "height": 34
        },
        "outputId": "2f99500d-9778-44fe-fe4a-ce54f00f65ed"
      },
      "source": [
        "# Retaining the save .pth file and cross checking \n",
        "test_loader = DataLoader(test, batch_size=256)\n",
        "result = evaluate(model2, test_loader)\n",
        "result"
      ],
      "execution_count": 52,
      "outputs": [
        {
          "output_type": "execute_result",
          "data": {
            "text/plain": [
              "{'val_acc': 0.889453113079071, 'val_loss': 0.4365774691104889}"
            ]
          },
          "metadata": {
            "tags": []
          },
          "execution_count": 52
        }
      ]
    },
    {
      "cell_type": "code",
      "metadata": {
        "id": "u4lhDZ7v_WHf",
        "colab_type": "code",
        "colab": {}
      },
      "source": [
        ""
      ],
      "execution_count": 52,
      "outputs": []
    },
    {
      "cell_type": "markdown",
      "metadata": {
        "id": "brhtlJ-c_BTM",
        "colab_type": "text"
      },
      "source": [
        "By logistic Regression we got accuarcy of 88% if num_epoch increases will leads to achieve 90 % may be!! ;)"
      ]
    },
    {
      "cell_type": "markdown",
      "metadata": {
        "id": "G8Uvgir6B_l0",
        "colab_type": "text"
      },
      "source": [
        "Increasing Neural Networks for improving accuracy ( Deep Neural Network)"
      ]
    },
    {
      "cell_type": "code",
      "metadata": {
        "id": "ChvB4APe9Xef",
        "colab_type": "code",
        "colab": {
          "base_uri": "https://localhost:8080/",
          "height": 118
        },
        "outputId": "8e8560b7-ad6f-495c-a082-1d4030c251a4"
      },
      "source": [
        "dataset"
      ],
      "execution_count": 53,
      "outputs": [
        {
          "output_type": "execute_result",
          "data": {
            "text/plain": [
              "Dataset MNIST\n",
              "    Number of datapoints: 60000\n",
              "    Root location: /content/\n",
              "    Split: Train\n",
              "    StandardTransform\n",
              "Transform: ToTensor()"
            ]
          },
          "metadata": {
            "tags": []
          },
          "execution_count": 53
        }
      ]
    },
    {
      "cell_type": "code",
      "metadata": {
        "id": "_jxmeViECHfa",
        "colab_type": "code",
        "colab": {
          "base_uri": "https://localhost:8080/",
          "height": 282
        },
        "outputId": "78e68d4f-39ca-476e-c78a-106a46400c0e"
      },
      "source": [
        "images,labels=dataset[0]\n",
        "plt.imshow(images[0],cmap='gray')\n",
        "print(\"Label : \",labels)"
      ],
      "execution_count": 54,
      "outputs": [
        {
          "output_type": "stream",
          "text": [
            "Label :  5\n"
          ],
          "name": "stdout"
        },
        {
          "output_type": "display_data",
          "data": {
            "image/png": "[encoded data removed]",
            "text/plain": [
              "<Figure size 432x288 with 1 Axes>"
            ]
          },
          "metadata": {
            "tags": [],
            "needs_background": "light"
          }
        }
      ]
    },
    {
      "cell_type": "code",
      "metadata": {
        "id": "6Sa2eEeDCJg0",
        "colab_type": "code",
        "colab": {}
      },
      "source": [
        "def split_indices(n,val_pct):\n",
        "  n_val=int(n*val_pct)\n",
        "  idx=np.random.permutation(n)\n",
        "  return idx[n_val:],idx[:n_val]"
      ],
      "execution_count": 55,
      "outputs": []
    },
    {
      "cell_type": "code",
      "metadata": {
        "id": "3fQtQrpyEYg6",
        "colab_type": "code",
        "colab": {
          "base_uri": "https://localhost:8080/",
          "height": 67
        },
        "outputId": "4ca4b598-e2fe-44a7-9214-be4169301558"
      },
      "source": [
        "train_idx,val_idx=split_indices(len(dataset),val_pct=0.2)\n",
        "print(len(train_idx),len(val_idx))\n",
        "print(\"Sample Indices : \",val_idx[:20])"
      ],
      "execution_count": 56,
      "outputs": [
        {
          "output_type": "stream",
          "text": [
            "48000 12000\n",
            "Sample Indices :  [50998 25767 58467  8351  3219 59907 40349  2734 41674 18396 21041  9519\n",
            "  4952 37685 23312  1828 37687  2251 30049 51092]\n"
          ],
          "name": "stdout"
        }
      ]
    },
    {
      "cell_type": "code",
      "metadata": {
        "id": "l8HW4vIMExE4",
        "colab_type": "code",
        "colab": {
          "base_uri": "https://localhost:8080/",
          "height": 282
        },
        "outputId": "1e114cc2-fef3-4db1-a2a9-c9bfd119a394"
      },
      "source": [
        "images,labels=dataset[248]\n",
        "plt.imshow(images[0],cmap='gray')\n",
        "print(\"Label : \",labels)"
      ],
      "execution_count": 57,
      "outputs": [
        {
          "output_type": "stream",
          "text": [
            "Label :  1\n"
          ],
          "name": "stdout"
        },
        {
          "output_type": "display_data",
          "data": {
            "image/png": "[encoded data removed]",
            "text/plain": [
              "<Figure size 432x288 with 1 Axes>"
            ]
          },
          "metadata": {
            "tags": [],
            "needs_background": "light"
          }
        }
      ]
    },
    {
      "cell_type": "code",
      "metadata": {
        "id": "gYSoIOHhHx45",
        "colab_type": "code",
        "colab": {}
      },
      "source": [
        "from torch.utils.data.sampler import SubsetRandomSampler as sam"
      ],
      "execution_count": 58,
      "outputs": []
    },
    {
      "cell_type": "code",
      "metadata": {
        "id": "0DaXyjtxE8zs",
        "colab_type": "code",
        "colab": {}
      },
      "source": [
        "batch_size=100\n",
        "train_sampler=sam(train_idx)\n",
        "train_loader=DataLoader(dataset,\n",
        "                        batch_size,\n",
        "                        sampler=train_sampler)\n",
        "val_sampler=sam(val_idx)\n",
        "val_loader=DataLoader(dataset,\n",
        "                      batch_size,\n",
        "                      sampler=val_sampler)"
      ],
      "execution_count": 59,
      "outputs": []
    },
    {
      "cell_type": "markdown",
      "metadata": {
        "id": "6tvGkKSC25lB",
        "colab_type": "text"
      },
      "source": [
        "Training Deep Neural Network"
      ]
    },
    {
      "cell_type": "code",
      "metadata": {
        "id": "NOdwwpE-GJHJ",
        "colab_type": "code",
        "colab": {}
      },
      "source": [
        "from torchvision.utils import make_grid\n",
        "from torch.utils.data import random_split\n",
        "from torchvision.transforms import ToTensor"
      ],
      "execution_count": 142,
      "outputs": []
    },
    {
      "cell_type": "code",
      "metadata": {
        "id": "Tcnyau2e5viO",
        "colab_type": "code",
        "colab": {}
      },
      "source": [
        "batch_size=128\n",
        "train_loader=DataLoader(train_ds,batch_size,shuffle=True,num_workers=4,pin_memory=True)\n",
        "val_loader=DataLoader(val_ds,batch_size,shuffle=True,num_workers=4,pin_memory=True)"
      ],
      "execution_count": 143,
      "outputs": []
    },
    {
      "cell_type": "code",
      "metadata": {
        "id": "jICxrVfX6_Me",
        "colab_type": "code",
        "colab": {
          "base_uri": "https://localhost:8080/",
          "height": 483
        },
        "outputId": "0a5da750-10ca-4e56-8b16-4274c3080bb6"
      },
      "source": [
        "for images,_ in train_loader:\n",
        "  print(\"Images.Shape : \",images.shape)\n",
        "  plt.figure(figsize=(16,8))\n",
        "  plt.axis(\"off\")\n",
        "  plt.imshow(make_grid(images,nrow=16).permute((1,2,0)))\n",
        "  break"
      ],
      "execution_count": 144,
      "outputs": [
        {
          "output_type": "stream",
          "text": [
            "Images.Shape :  torch.Size([128, 1, 28, 28])\n"
          ],
          "name": "stdout"
        },
        {
          "output_type": "display_data",
          "data": {
            "image/png": "[encoded data removed]",
            "text/plain": [
              "<Figure size 1152x576 with 1 Axes>"
            ]
          },
          "metadata": {
            "tags": [],
            "needs_background": "light"
          }
        }
      ]
    },
    {
      "cell_type": "code",
      "metadata": {
        "id": "uP51pzLV7XPL",
        "colab_type": "code",
        "colab": {}
      },
      "source": [
        "def accuracy(outputs,labels):\n",
        "  _,preds=torch.max(outputs,dim=1)\n",
        "  return torch.tensor(torch.sum(preds==labels).item()/len(preds))"
      ],
      "execution_count": 145,
      "outputs": []
    },
    {
      "cell_type": "code",
      "metadata": {
        "id": "AvT-DUuN9yCY",
        "colab_type": "code",
        "colab": {}
      },
      "source": [
        "class MnistModel(nn.Module):\n",
        "    \"\"\"Feedfoward neural network with 1 hidden layer\"\"\"\n",
        "    def __init__(self, in_size, hidden_size, out_size):\n",
        "        super().__init__()\n",
        "        self.linear1 = nn.Linear(in_size, hidden_size)\n",
        "        self.linear2 = nn.Linear(hidden_size, hidden_size)\n",
        "        self.linear3=nn.Linear(hidden_size,hidden_size)\n",
        "        self.linear4=nn.Linear(hidden_size,out_size)\n",
        "        \n",
        "    def forward(self, xb):\n",
        "        xb = xb.reshape(-1,784)\n",
        "        out = self.linear1(xb)\n",
        "        out = F.relu(out)\n",
        "        out = self.linear2(out)\n",
        "        out =  F.relu(out)\n",
        "        out = self.linear3(out)\n",
        "        out = F.relu(out)\n",
        "        out = self.linear4(out)\n",
        "        return out\n",
        "    \n",
        "    def training_step(self, batch):\n",
        "        images, labels = batch \n",
        "        out = self(images)                  # Generate predictions\n",
        "        loss = F.cross_entropy(out, labels) # Calculate loss\n",
        "        return loss\n",
        "    \n",
        "    def validation_step(self, batch):\n",
        "        images, labels = batch \n",
        "        out = self(images)                    # Generate predictions\n",
        "        loss = F.cross_entropy(out, labels)   # Calculate loss\n",
        "        acc = accuracy(out, labels)           # Calculate accuracy\n",
        "        return {'val_loss': loss, 'val_acc': acc}\n",
        "        \n",
        "    def validation_epoch_end(self, outputs):\n",
        "        batch_losses = [x['val_loss'] for x in outputs]\n",
        "        epoch_loss = torch.stack(batch_losses).mean()   # Combine losses\n",
        "        batch_accs = [x['val_acc'] for x in outputs]\n",
        "        epoch_acc = torch.stack(batch_accs).mean()      # Combine accuracies\n",
        "        return {'val_loss': epoch_loss.item(), 'val_acc': epoch_acc.item()}\n",
        "    \n",
        "    def epoch_end(self, epoch, result):\n",
        "      if(epoch+1)%10==0:\n",
        "        print(\"Epoch [{}], val_acc: {:.4f}, val_loss: {:.4f}\".format(epoch+1, result['val_acc'], result['val_loss']))\n"
      ],
      "execution_count": 146,
      "outputs": []
    },
    {
      "cell_type": "code",
      "metadata": {
        "id": "V_fmLl8mAiLL",
        "colab_type": "code",
        "colab": {}
      },
      "source": [
        "input_size=784\n",
        "batch_size=32\n",
        "num_classes=10"
      ],
      "execution_count": 147,
      "outputs": []
    },
    {
      "cell_type": "code",
      "metadata": {
        "id": "6YUIuxSPBAEF",
        "colab_type": "code",
        "colab": {}
      },
      "source": [
        "model = MnistModel(input_size, hidden_size=32, out_size=num_classes)"
      ],
      "execution_count": 148,
      "outputs": []
    },
    {
      "cell_type": "code",
      "metadata": {
        "id": "DbdSk5v_BNpj",
        "colab_type": "code",
        "colab": {
          "base_uri": "https://localhost:8080/",
          "height": 151
        },
        "outputId": "30c133e4-e23f-494b-ca12-16ce22abfb9a"
      },
      "source": [
        "for t in model.parameters():\n",
        "  print(t.shape)"
      ],
      "execution_count": 149,
      "outputs": [
        {
          "output_type": "stream",
          "text": [
            "torch.Size([32, 784])\n",
            "torch.Size([32])\n",
            "torch.Size([32, 32])\n",
            "torch.Size([32])\n",
            "torch.Size([32, 32])\n",
            "torch.Size([32])\n",
            "torch.Size([10, 32])\n",
            "torch.Size([10])\n"
          ],
          "name": "stdout"
        }
      ]
    },
    {
      "cell_type": "code",
      "metadata": {
        "id": "PCjXMDYZB3oY",
        "colab_type": "code",
        "colab": {
          "base_uri": "https://localhost:8080/",
          "height": 134
        },
        "outputId": "24a02ae0-626f-46e9-f805-ea775a953655"
      },
      "source": [
        "for images, labels in train_loader:\n",
        "  outputs = model(images)\n",
        "  loss = F.cross_entropy(outputs, labels)\n",
        "  print('Loss:', loss.item())\n",
        "  break\n",
        "\n",
        "print('outputs.shape : ', outputs.shape)\n",
        "print('Sample outputs :\\n', outputs[:2].data)"
      ],
      "execution_count": 150,
      "outputs": [
        {
          "output_type": "stream",
          "text": [
            "Loss: 2.308627128601074\n",
            "outputs.shape :  torch.Size([128, 10])\n",
            "Sample outputs :\n",
            " tensor([[ 0.1136,  0.0210, -0.1105,  0.0046, -0.1467, -0.1253,  0.0822, -0.2079,\n",
            "         -0.0174,  0.0584],\n",
            "        [ 0.1097,  0.0134, -0.1163, -0.0020, -0.1430, -0.1201,  0.0890, -0.2093,\n",
            "         -0.0202,  0.0672]])\n"
          ],
          "name": "stdout"
        }
      ]
    },
    {
      "cell_type": "code",
      "metadata": {
        "id": "pI8mIolCCEq8",
        "colab_type": "code",
        "colab": {
          "base_uri": "https://localhost:8080/",
          "height": 34
        },
        "outputId": "2dcc02a2-30ff-4d42-b08a-54e4f6feba8f"
      },
      "source": [
        "\n",
        "torch.cuda.is_available()"
      ],
      "execution_count": 151,
      "outputs": [
        {
          "output_type": "execute_result",
          "data": {
            "text/plain": [
              "True"
            ]
          },
          "metadata": {
            "tags": []
          },
          "execution_count": 151
        }
      ]
    },
    {
      "cell_type": "code",
      "metadata": {
        "id": "6uL3NfBgDV90",
        "colab_type": "code",
        "colab": {}
      },
      "source": [
        "def get_default_device():\n",
        "  if torch.cuda.is_available():\n",
        "    return torch.device(\"cuda\")\n",
        "  else:\n",
        "    return torch.device(\"cpu\")"
      ],
      "execution_count": 152,
      "outputs": []
    },
    {
      "cell_type": "code",
      "metadata": {
        "id": "6PSJ6Z4hDtEY",
        "colab_type": "code",
        "colab": {
          "base_uri": "https://localhost:8080/",
          "height": 34
        },
        "outputId": "3cdf217b-dd9a-4937-c8d9-17f1e624fc56"
      },
      "source": [
        "device=get_default_device()\n",
        "device"
      ],
      "execution_count": 153,
      "outputs": [
        {
          "output_type": "execute_result",
          "data": {
            "text/plain": [
              "device(type='cuda')"
            ]
          },
          "metadata": {
            "tags": []
          },
          "execution_count": 153
        }
      ]
    },
    {
      "cell_type": "code",
      "metadata": {
        "id": "iPXhEsR5D75c",
        "colab_type": "code",
        "colab": {}
      },
      "source": [
        "def to_device(data,device):\n",
        "  if isinstance(data,(list,tuple)):\n",
        "    return [to_device(x,device) for x in data]\n",
        "  return data.to(device,non_blocking=True)\n"
      ],
      "execution_count": 154,
      "outputs": []
    },
    {
      "cell_type": "code",
      "metadata": {
        "id": "E8CL2atbFUsb",
        "colab_type": "code",
        "colab": {
          "base_uri": "https://localhost:8080/",
          "height": 50
        },
        "outputId": "ef58c99c-27e7-4eeb-e404-dcd32650048c"
      },
      "source": [
        "for images,labels in train_loader:\n",
        "  print(\"Images.Shape :\",images.shape)\n",
        "  images=to_device(images,device)\n",
        "  print(images.device)\n",
        "  break"
      ],
      "execution_count": 155,
      "outputs": [
        {
          "output_type": "stream",
          "text": [
            "Images.Shape : torch.Size([128, 1, 28, 28])\n",
            "cuda:0\n"
          ],
          "name": "stdout"
        }
      ]
    },
    {
      "cell_type": "code",
      "metadata": {
        "id": "HExdveH7F1LJ",
        "colab_type": "code",
        "colab": {}
      },
      "source": [
        "class DeviceDataLoader():\n",
        "  def __init__(self,dl,device):\n",
        "    self.dl=dl\n",
        "    self.device=device\n",
        "\n",
        "  def __iter__(self):\n",
        "    for b in self.dl:\n",
        "      yield to_device(b,self.device)\n",
        "\n",
        "  def __len__(self):\n",
        "    return len(self.dl)"
      ],
      "execution_count": 156,
      "outputs": []
    },
    {
      "cell_type": "code",
      "metadata": {
        "id": "lQoOqoymG5qS",
        "colab_type": "code",
        "colab": {}
      },
      "source": [
        "train_loader=DeviceDataLoader(train_loader,device)\n",
        "val_loader=DeviceDataLoader(val_loader,device)"
      ],
      "execution_count": 157,
      "outputs": []
    },
    {
      "cell_type": "code",
      "metadata": {
        "id": "2UXMN0mSHGvU",
        "colab_type": "code",
        "colab": {
          "base_uri": "https://localhost:8080/",
          "height": 134
        },
        "outputId": "38fc1120-7275-4aca-eefb-0b3104b0e0cf"
      },
      "source": [
        "for xb,yb in val_loader:\n",
        "  print(\"xb.device : \",xb.device)\n",
        "  print(\"yb :\",yb)\n",
        "  break"
      ],
      "execution_count": 158,
      "outputs": [
        {
          "output_type": "stream",
          "text": [
            "xb.device :  cuda:0\n",
            "yb : tensor([9, 1, 5, 2, 3, 2, 8, 7, 5, 2, 4, 4, 1, 0, 1, 3, 0, 3, 1, 4, 4, 0, 2, 3,\n",
            "        6, 6, 3, 3, 7, 8, 4, 0, 8, 4, 7, 3, 7, 0, 0, 2, 2, 1, 4, 2, 2, 6, 0, 8,\n",
            "        8, 5, 4, 7, 9, 8, 1, 3, 0, 9, 9, 9, 2, 0, 4, 0, 7, 5, 0, 1, 7, 6, 1, 4,\n",
            "        7, 8, 9, 0, 7, 4, 8, 9, 1, 3, 8, 5, 7, 7, 9, 7, 7, 4, 3, 9, 1, 7, 6, 8,\n",
            "        7, 4, 8, 1, 9, 8, 7, 3, 3, 5, 4, 8, 1, 6, 3, 0, 9, 0, 3, 2, 5, 4, 5, 0,\n",
            "        5, 6, 7, 2, 2, 4, 1, 3], device='cuda:0')\n"
          ],
          "name": "stdout"
        }
      ]
    },
    {
      "cell_type": "markdown",
      "metadata": {
        "id": "WycET5AMIVzf",
        "colab_type": "text"
      },
      "source": [
        "Traning the Model"
      ]
    },
    {
      "cell_type": "code",
      "metadata": {
        "id": "DaVc8tH5He6X",
        "colab_type": "code",
        "colab": {}
      },
      "source": [
        "def evaluate(model, val_loader):\n",
        "  outputs = [model.validation_step(batch) for batch in val_loader]\n",
        "  return model.validation_epoch_end(outputs)"
      ],
      "execution_count": 159,
      "outputs": []
    },
    {
      "cell_type": "code",
      "metadata": {
        "id": "4zGnitwjIwK6",
        "colab_type": "code",
        "colab": {}
      },
      "source": [
        "def fit(epochs,lr,model,train_loader,val_loader,opt_func=torch.optim.SGD):\n",
        "  history=[]\n",
        "  optimizer=opt_func(model.parameters(),lr)\n",
        "  for epoch in range(epochs):\n",
        "    for batch in train_loader:\n",
        "      loss=model.training_step(batch)\n",
        "      loss.backward()\n",
        "      optimizer.step()\n",
        "      optimizer.zero_grad()\n",
        "    result=evaluate(model, val_loader)\n",
        "    model.epoch_end(epoch,result)\n",
        "    history.append(result)\n",
        "  return history"
      ],
      "execution_count": 160,
      "outputs": []
    },
    {
      "cell_type": "code",
      "metadata": {
        "id": "T50dOcnEI7LG",
        "colab_type": "code",
        "colab": {
          "base_uri": "https://localhost:8080/",
          "height": 118
        },
        "outputId": "33af0b83-a0c7-4b70-c218-cb3f79d86429"
      },
      "source": [
        "model=MnistModel(input_size, hidden_size=32, out_size=num_classes)\n",
        "to_device(model,device)"
      ],
      "execution_count": 161,
      "outputs": [
        {
          "output_type": "execute_result",
          "data": {
            "text/plain": [
              "MnistModel(\n",
              "  (linear1): Linear(in_features=784, out_features=32, bias=True)\n",
              "  (linear2): Linear(in_features=32, out_features=32, bias=True)\n",
              "  (linear3): Linear(in_features=32, out_features=32, bias=True)\n",
              "  (linear4): Linear(in_features=32, out_features=10, bias=True)\n",
              ")"
            ]
          },
          "metadata": {
            "tags": []
          },
          "execution_count": 161
        }
      ]
    },
    {
      "cell_type": "code",
      "metadata": {
        "id": "M3G0AqCCKrOd",
        "colab_type": "code",
        "colab": {
          "base_uri": "https://localhost:8080/",
          "height": 34
        },
        "outputId": "6d7c968c-ef8c-4a32-a9a3-73f0c6419b5a"
      },
      "source": [
        "history1=[evaluate(model,val_loader)]\n",
        "history1"
      ],
      "execution_count": 162,
      "outputs": [
        {
          "output_type": "execute_result",
          "data": {
            "text/plain": [
              "[{'val_acc': 0.0859375, 'val_loss': 2.309114456176758}]"
            ]
          },
          "metadata": {
            "tags": []
          },
          "execution_count": 162
        }
      ]
    },
    {
      "cell_type": "code",
      "metadata": {
        "id": "3c8yg_2lLC3g",
        "colab_type": "code",
        "colab": {
          "base_uri": "https://localhost:8080/",
          "height": 101
        },
        "outputId": "174b6d22-bab9-4575-8a7f-ecc7453abeee"
      },
      "source": [
        "history1+= fit(50, 0.5, model, train_loader, val_loader)"
      ],
      "execution_count": 166,
      "outputs": [
        {
          "output_type": "stream",
          "text": [
            "Epoch [10], val_acc: 0.9634, val_loss: 0.1588\n",
            "Epoch [20], val_acc: 0.9564, val_loss: 0.2388\n",
            "Epoch [30], val_acc: 0.9604, val_loss: 0.2249\n",
            "Epoch [40], val_acc: 0.9559, val_loss: 0.2955\n",
            "Epoch [50], val_acc: 0.9573, val_loss: 0.2585\n"
          ],
          "name": "stdout"
        }
      ]
    },
    {
      "cell_type": "code",
      "metadata": {
        "id": "pSj_C8isiNQk",
        "colab_type": "code",
        "colab": {
          "base_uri": "https://localhost:8080/",
          "height": 312
        },
        "outputId": "d9f27829-6640-42eb-901a-f09cfa760484"
      },
      "source": [
        "losses=[x['val_loss'] for x in history]\n",
        "plt.plot(losses,'-x')\n",
        "plt.xlabel('epoch')\n",
        "plt.ylabel('loss')\n",
        "plt.title('Loss vs #of Epoch')"
      ],
      "execution_count": 167,
      "outputs": [
        {
          "output_type": "execute_result",
          "data": {
            "text/plain": [
              "Text(0.5, 1.0, 'Loss vs #of Epoch')"
            ]
          },
          "metadata": {
            "tags": []
          },
          "execution_count": 167
        },
        {
          "output_type": "display_data",
          "data": {
            "image/png": "[encoded data removed]",
            "text/plain": [
              "<Figure size 432x288 with 1 Axes>"
            ]
          },
          "metadata": {
            "tags": [],
            "needs_background": "light"
          }
        }
      ]
    },
    {
      "cell_type": "code",
      "metadata": {
        "id": "sVYVH78eiTr_",
        "colab_type": "code",
        "colab": {
          "base_uri": "https://localhost:8080/",
          "height": 312
        },
        "outputId": "8b939e52-b204-4845-a39e-10c130650edd"
      },
      "source": [
        "accuracies=[x['val_acc'] for x in history]\n",
        "plt.plot(accuracies,'-x')\n",
        "plt.xlabel('epoch')\n",
        "plt.ylabel('accuracy')\n",
        "plt.title('accuracy vs #of Epoch')"
      ],
      "execution_count": 168,
      "outputs": [
        {
          "output_type": "execute_result",
          "data": {
            "text/plain": [
              "Text(0.5, 1.0, 'accuracy vs #of Epoch')"
            ]
          },
          "metadata": {
            "tags": []
          },
          "execution_count": 168
        },
        {
          "output_type": "display_data",
          "data": {
            "image/png": "[encoded data removed]",
            "text/plain": [
              "<Figure size 432x288 with 1 Axes>"
            ]
          },
          "metadata": {
            "tags": [],
            "needs_background": "light"
          }
        }
      ]
    },
    {
      "cell_type": "markdown",
      "metadata": {
        "id": "WGwvzxbnigxK",
        "colab_type": "text"
      },
      "source": [
        "Damnnn!! By increasing #of hidden layer got 95% accuracy\n",
        "three hidden layers and 1 output layer"
      ]
    }
  ]
}